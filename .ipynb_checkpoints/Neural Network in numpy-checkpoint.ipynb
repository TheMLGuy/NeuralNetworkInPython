{
 "cells": [
  {
   "cell_type": "code",
   "execution_count": 65,
   "metadata": {
    "collapsed": true
   },
   "outputs": [],
   "source": [
    "import numpy as np\n",
    "import matplotlib.pyplot as plt"
   ]
  },
  {
   "cell_type": "code",
   "execution_count": 63,
   "metadata": {
    "collapsed": false
   },
   "outputs": [],
   "source": [
    "#initializing inputs\n",
    "np.random.seed(1)\n",
    "X= np.array([[0,0,1],\n",
    "            [0,1,1],\n",
    "            [1,0,1],\n",
    "            [1,1,1]])\n",
    "y=np.array([[0],\n",
    "   [1],\n",
    "   [1],\n",
    "   [0]])\n",
    "syn0=2*np.random.random((3,4))-1\n",
    "syn1=2*np.random.random((4,1))-1\n"
   ]
  },
  {
   "cell_type": "code",
   "execution_count": 53,
   "metadata": {
    "collapsed": true
   },
   "outputs": [],
   "source": [
    "#sigmoid function\n",
    "def sigmoidDerivative(value, deriv=False):\n",
    "\n",
    "    if deriv==True:\n",
    "        return value*(1-value)\n",
    "    return 1/(1+np.exp(-value))"
   ]
  },
  {
   "cell_type": "code",
   "execution_count": 64,
   "metadata": {
    "collapsed": false
   },
   "outputs": [
    {
     "name": "stdout",
     "output_type": "stream",
     "text": [
      "error: 0.49641003190272537\n",
      "error: 0.008584525653247152\n",
      "error: 0.0057894598625078085\n",
      "error: 0.004629176776769983\n",
      "error: 0.0039587652802736475\n",
      "error: 0.0035101225678616783\n",
      "error: 0.003183502385874826\n",
      "error: 0.002932306342283071\n",
      "error: 0.0027315064182105065\n",
      "error: 0.0025663172400400276\n"
     ]
    }
   ],
   "source": [
    "l=[]\n",
    "for i in range(60000):\n",
    "    l0=X\n",
    "    l1=sigmoidDerivative(np.dot(l0, syn0))\n",
    "    l2=sigmoidDerivative(np.dot(l1,syn1))\n",
    "    \n",
    "    \n",
    "    l2_error=y-l2\n",
    "    if i%10000==0:\n",
    "        err=np.mean(np.abs(l2_error))\n",
    "        print('error: {}'.format(err))\n",
    "        l.append(err)\n",
    "    l2_delta=l2_error*sigmoidDerivative(l2, deriv=True)\n",
    "    \n",
    "    l1_error=l2_delta.dot(syn1.T)\n",
    "    \n",
    "    l1_delta=l1_error*sigmoidDerivative(l1,deriv=True)\n",
    "    \n",
    "    syn1+=l1.T.dot(l2_delta)\n",
    "    syn0+=l0.T.dot(l1_delta)\n",
    "   \n",
    "    \n",
    "    "
   ]
  },
  {
   "cell_type": "code",
   "execution_count": 76,
   "metadata": {
    "collapsed": false
   },
   "outputs": [
    {
     "data": {
      "image/png": "[encoded data removed]",
      "text/plain": [
       "<matplotlib.figure.Figure at 0x26f52fb60f0>"
      ]
     },
     "metadata": {},
     "output_type": "display_data"
    }
   ],
   "source": [
    "plt.plot(l,'r-')\n",
    "plt.ylabel('Error rate')\n",
    "plt.xlabel('Iterations')\n",
    "plt.axis([0,10,0,.5])\n",
    "plt.show()"
   ]
  },
  {
   "cell_type": "code",
   "execution_count": null,
   "metadata": {
    "collapsed": true
   },
   "outputs": [],
   "source": []
  }
 ],
 "metadata": {
  "anaconda-cloud": {},
  "kernelspec": {
   "display_name": "Python [default]",
   "language": "python",
   "name": "python3"
  },
  "language_info": {
   "codemirror_mode": {
    "name": "ipython",
    "version": 3
   },
   "file_extension": ".py",
   "mimetype": "text/x-python",
   "name": "python",
   "nbconvert_exporter": "python",
   "pygments_lexer": "ipython3",
   "version": "3.5.2"
  }
 },
 "nbformat": 4,
 "nbformat_minor": 1
}
